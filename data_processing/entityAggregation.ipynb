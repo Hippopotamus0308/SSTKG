{
 "cells": [
  {
   "cell_type": "code",
   "execution_count": 1,
   "metadata": {},
   "outputs": [],
   "source": [
    "from jina import Document, DocumentArray\n",
    "import pandas as pd\n",
    "import numpy as np"
   ]
  },
  {
   "cell_type": "code",
   "execution_count": 21,
   "metadata": {},
   "outputs": [],
   "source": [
    "data_2212 = pd.read_csv('./data/2022-12/spend_patterns.csv')\n",
    "data_2301 = pd.read_csv('./data/2023-1/spend_patterns.csv')\n",
    "data_2302 = pd.read_csv('./data/2023-2/spend_patterns.csv')\n"
   ]
  },
  {
   "cell_type": "code",
   "execution_count": 22,
   "metadata": {},
   "outputs": [
    {
     "data": {
      "text/plain": [
       "42361"
      ]
     },
     "execution_count": 22,
     "metadata": {},
     "output_type": "execute_result"
    }
   ],
   "source": [
    "pk_2212 = data_2212['placekey']\n",
    "len(pk_2212)"
   ]
  },
  {
   "cell_type": "code",
   "execution_count": 23,
   "metadata": {},
   "outputs": [
    {
     "data": {
      "text/plain": [
       "41200"
      ]
     },
     "execution_count": 23,
     "metadata": {},
     "output_type": "execute_result"
    }
   ],
   "source": [
    "pk_2301 = data_2301['placekey']\n",
    "len(pk_2301)"
   ]
  },
  {
   "cell_type": "code",
   "execution_count": 24,
   "metadata": {},
   "outputs": [
    {
     "data": {
      "text/plain": [
       "41138"
      ]
     },
     "execution_count": 24,
     "metadata": {},
     "output_type": "execute_result"
    }
   ],
   "source": [
    "pk_2302 = data_2302['placekey']\n",
    "len(pk_2302)"
   ]
  },
  {
   "cell_type": "code",
   "execution_count": 25,
   "metadata": {},
   "outputs": [
    {
     "data": {
      "text/plain": [
       "41096"
      ]
     },
     "execution_count": 25,
     "metadata": {},
     "output_type": "execute_result"
    }
   ],
   "source": [
    "cnt = 0\n",
    "arr = np.array(pk_2212)\n",
    "for i in pk_2301:\n",
    "    if np.searchsorted(arr,i):\n",
    "        cnt+=1\n",
    "cnt"
   ]
  },
  {
   "cell_type": "code",
   "execution_count": 40,
   "metadata": {},
   "outputs": [
    {
     "data": {
      "text/plain": [
       "0"
      ]
     },
     "execution_count": 40,
     "metadata": {},
     "output_type": "execute_result"
    }
   ],
   "source": [
    "len(np.where(arr == 'pk_2301[0]')[0])"
   ]
  },
  {
   "cell_type": "code",
   "execution_count": 41,
   "metadata": {},
   "outputs": [
    {
     "data": {
      "text/plain": [
       "1"
      ]
     },
     "execution_count": 41,
     "metadata": {},
     "output_type": "execute_result"
    }
   ],
   "source": [
    "len(np.where(arr == pk_2301[0])[0])"
   ]
  },
  {
   "cell_type": "code",
   "execution_count": 34,
   "metadata": {},
   "outputs": [
    {
     "data": {
      "text/plain": [
       "41138"
      ]
     },
     "execution_count": 34,
     "metadata": {},
     "output_type": "execute_result"
    }
   ],
   "source": [
    "cnt = 0\n",
    "arr = np.array(pk_2212)\n",
    "for i in pk_2302:\n",
    "    if len(np.where(arr == i))==1:\n",
    "        cnt+=1\n",
    "cnt"
   ]
  },
  {
   "cell_type": "code",
   "execution_count": 3,
   "metadata": {},
   "outputs": [],
   "source": [
    "pk_all = []\n",
    "for i in range(1,13):\n",
    "    data = pd.read_csv(f'./data/2022-{i}/spend_patterns.csv')\n",
    "    pkk = data['placekey']\n",
    "    pk_all.append(pkk)\n",
    "for i in range(1,5):\n",
    "    data = pd.read_csv(f'./data/2023-{i}/spend_patterns.csv')\n",
    "    pkk = data['placekey']\n",
    "    pk_all.append(pkk)"
   ]
  },
  {
   "cell_type": "code",
   "execution_count": 4,
   "metadata": {},
   "outputs": [
    {
     "name": "stdout",
     "output_type": "stream",
     "text": [
      "37324\n",
      "37903\n",
      "39188\n",
      "39461\n",
      "39654\n",
      "39931\n",
      "41955\n",
      "42614\n",
      "42162\n",
      "42009\n",
      "40406\n",
      "42361\n",
      "41200\n",
      "41138\n",
      "42932\n",
      "43200\n"
     ]
    }
   ],
   "source": [
    "for i in pk_all:\n",
    "    print(len(i))"
   ]
  },
  {
   "cell_type": "code",
   "execution_count": 5,
   "metadata": {},
   "outputs": [],
   "source": [
    "import placekey as pk\n",
    "def test_loc(placekeys):\n",
    "    cnt = len(placekeys)\n",
    "    geoInfo = []\n",
    "    for i in range(len(placekeys)):\n",
    "        loc = pk.placekey_to_geo(placekeys[i])\n",
    "        if loc[0]<42 and loc[0]>38 and loc[1]>-85 and loc[1]<-80:\n",
    "            geoInfo.append(loc)\n",
    "    print([cnt,len(geoInfo)])\n",
    "    print('------------')\n"
   ]
  },
  {
   "cell_type": "code",
   "execution_count": 6,
   "metadata": {},
   "outputs": [
    {
     "name": "stdout",
     "output_type": "stream",
     "text": [
      "[37324, 37323]\n",
      "------------\n",
      "[37903, 37901]\n",
      "------------\n",
      "[39188, 39186]\n",
      "------------\n",
      "[39461, 39458]\n",
      "------------\n",
      "[39654, 39651]\n",
      "------------\n",
      "[39931, 39928]\n",
      "------------\n",
      "[41955, 41950]\n",
      "------------\n",
      "[42614, 42607]\n",
      "------------\n",
      "[42162, 42155]\n",
      "------------\n",
      "[42009, 41991]\n",
      "------------\n",
      "[40406, 40386]\n",
      "------------\n",
      "[42361, 42336]\n",
      "------------\n",
      "[41200, 41171]\n",
      "------------\n",
      "[41138, 41108]\n",
      "------------\n",
      "[42932, 42904]\n",
      "------------\n",
      "[43200, 43170]\n",
      "------------\n"
     ]
    }
   ],
   "source": [
    "for i in pk_all:\n",
    "    test_loc(i)"
   ]
  },
  {
   "cell_type": "code",
   "execution_count": 15,
   "metadata": {},
   "outputs": [
    {
     "data": {
      "text/plain": [
       "40599"
      ]
     },
     "execution_count": 15,
     "metadata": {},
     "output_type": "execute_result"
    }
   ],
   "source": [
    "expData = pd.read_csv('./data/geoLL.csv')\n",
    "expPk = expData['uri']\n",
    "len(set(expPk))"
   ]
  },
  {
   "cell_type": "code",
   "execution_count": 42,
   "metadata": {},
   "outputs": [],
   "source": [
    "def final_data_length(placekeys):\n",
    "    cnt = 0\n",
    "    arr = np.array(placekeys)\n",
    "    for i in expPk:\n",
    "        if len(np.where(arr == i)[0])==1:\n",
    "            cnt+=1\n",
    "    print([len(placekeys),cnt])\n",
    "    print('---------------------')"
   ]
  },
  {
   "cell_type": "code",
   "execution_count": 43,
   "metadata": {},
   "outputs": [
    {
     "name": "stdout",
     "output_type": "stream",
     "text": [
      "[37324, 30723]\n",
      "---------------------\n",
      "[37903, 31222]\n",
      "---------------------\n",
      "[39188, 31716]\n",
      "---------------------\n",
      "[39461, 31944]\n",
      "---------------------\n",
      "[39654, 32087]\n",
      "---------------------\n",
      "[39931, 32302]\n",
      "---------------------\n",
      "[41955, 33656]\n",
      "---------------------\n",
      "[42614, 34134]\n",
      "---------------------\n",
      "[42162, 34209]\n",
      "---------------------\n",
      "[42009, 34420]\n",
      "---------------------\n",
      "[40406, 34231]\n",
      "---------------------\n",
      "[42361, 37969]\n",
      "---------------------\n",
      "[41200, 40599]\n",
      "---------------------\n",
      "[41138, 38100]\n",
      "---------------------\n",
      "[42932, 37213]\n",
      "---------------------\n",
      "[43200, 36778]\n",
      "---------------------\n"
     ]
    }
   ],
   "source": [
    "for i in pk_all:\n",
    "    final_data_length(i)"
   ]
  }
 ],
 "metadata": {
  "kernelspec": {
   "display_name": "jina",
   "language": "python",
   "name": "python3"
  },
  "language_info": {
   "codemirror_mode": {
    "name": "ipython",
    "version": 3
   },
   "file_extension": ".py",
   "mimetype": "text/x-python",
   "name": "python",
   "nbconvert_exporter": "python",
   "pygments_lexer": "ipython3",
   "version": "3.9.13"
  },
  "orig_nbformat": 4
 },
 "nbformat": 4,
 "nbformat_minor": 2
}
