{
 "cells": [
  {
   "cell_type": "code",
   "execution_count": 1,
   "metadata": {},
   "outputs": [],
   "source": [
    "from jina import Document, DocumentArray\n",
    "import pandas as pd\n",
    "import numpy as np\n"
   ]
  },
  {
   "cell_type": "code",
   "execution_count": 11,
   "metadata": {},
   "outputs": [
    {
     "name": "stdout",
     "output_type": "stream",
     "text": [
      "222-222@5s5-sqj-t5f\n",
      "{'placekey': '222-222@5s5-sqj-t5f', 'distance': 0.0}, {'placekey': '229-222@5s5-sqj-s89', 'distance': 273.36345263648366}, {'placekey': '224-222@5s5-sqj-gc5', 'distance': 359.1766543188494}, {'placekey': '225-222@5s5-sqj-tqf', 'distance': 759.651047393111}\n"
     ]
    }
   ],
   "source": [
    "f = pd.read_csv('../data_processing/data/dd/distanceDetail2000_0.csv')\n",
    "for p in range(len(f)):\n",
    "    print(f['uri'][p])\n",
    "    print(f['text'][p][1:-1])"
   ]
  },
  {
   "cell_type": "code",
   "execution_count": 13,
   "metadata": {},
   "outputs": [
    {
     "name": "stdout",
     "output_type": "stream",
     "text": [
      "0\n",
      "1\n",
      "2\n",
      "3\n",
      "4\n",
      "5\n",
      "6\n",
      "7\n",
      "8\n",
      "9\n",
      "10\n",
      "11\n",
      "12\n",
      "13\n",
      "14\n",
      "15\n",
      "16\n",
      "17\n",
      "18\n",
      "19\n",
      "20\n",
      "21\n",
      "22\n",
      "23\n",
      "24\n",
      "25\n",
      "26\n",
      "27\n",
      "28\n",
      "29\n",
      "30\n",
      "31\n",
      "32\n"
     ]
    }
   ],
   "source": [
    "dd = DocumentArray()\n",
    "for i in range(0,33):\n",
    "    print(i)\n",
    "    t = pd.read_csv(f'../data_processing/data/dd/distanceDetail2000_{i}.csv')\n",
    "    for p in range(len(t)):\n",
    "        #content = {'pk':t['uri'][p],'distance':t['text'][p][1:-1]}\n",
    "        dd.append(Document(uri=t['uri'][p],text=t['text'][p][1:-1]))\n",
    "dd.save_csv('../data_processing/data/distanceDetail.csv')\n",
    "\n"
   ]
  },
  {
   "cell_type": "code",
   "execution_count": 15,
   "metadata": {},
   "outputs": [
    {
     "data": {
      "text/html": [
       "<div>\n",
       "<style scoped>\n",
       "    .dataframe tbody tr th:only-of-type {\n",
       "        vertical-align: middle;\n",
       "    }\n",
       "\n",
       "    .dataframe tbody tr th {\n",
       "        vertical-align: top;\n",
       "    }\n",
       "\n",
       "    .dataframe thead th {\n",
       "        text-align: right;\n",
       "    }\n",
       "</style>\n",
       "<table border=\"1\" class=\"dataframe\">\n",
       "  <thead>\n",
       "    <tr style=\"text-align: right;\">\n",
       "      <th></th>\n",
       "      <th>id</th>\n",
       "      <th>text</th>\n",
       "      <th>uri</th>\n",
       "    </tr>\n",
       "  </thead>\n",
       "  <tbody>\n",
       "    <tr>\n",
       "      <th>0</th>\n",
       "      <td>65e5b2541c09b4db53161cf38610b373</td>\n",
       "      <td>{'placekey': '222-222@5s5-sqj-t5f', 'distance'...</td>\n",
       "      <td>222-222@5s5-sqj-t5f</td>\n",
       "    </tr>\n",
       "    <tr>\n",
       "      <th>1</th>\n",
       "      <td>f21653a5770c4d4406f7d1164e17ed57</td>\n",
       "      <td>{'placekey': '222-222@5s5-v59-87q', 'distance'...</td>\n",
       "      <td>222-222@5s5-v59-87q</td>\n",
       "    </tr>\n",
       "    <tr>\n",
       "      <th>2</th>\n",
       "      <td>c6d6019794f01e55b89b86aafe8a7903</td>\n",
       "      <td>{'placekey': '222-222@5s5-x29-9pv', 'distance'...</td>\n",
       "      <td>222-222@5s5-x29-9pv</td>\n",
       "    </tr>\n",
       "    <tr>\n",
       "      <th>3</th>\n",
       "      <td>601d7dccd183b1dc405e605a512177b2</td>\n",
       "      <td>{'placekey': '222-222@63c-j3z-yn5', 'distance'...</td>\n",
       "      <td>222-222@63c-j3z-yn5</td>\n",
       "    </tr>\n",
       "    <tr>\n",
       "      <th>4</th>\n",
       "      <td>becd44dc100f8984f2b3828f2ce45ae5</td>\n",
       "      <td>{'placekey': '222-222@63c-j3z-yn5', 'distance'...</td>\n",
       "      <td>222-222@63c-j42-26k</td>\n",
       "    </tr>\n",
       "  </tbody>\n",
       "</table>\n",
       "</div>"
      ],
      "text/plain": [
       "                                 id  \\\n",
       "0  65e5b2541c09b4db53161cf38610b373   \n",
       "1  f21653a5770c4d4406f7d1164e17ed57   \n",
       "2  c6d6019794f01e55b89b86aafe8a7903   \n",
       "3  601d7dccd183b1dc405e605a512177b2   \n",
       "4  becd44dc100f8984f2b3828f2ce45ae5   \n",
       "\n",
       "                                                text                  uri  \n",
       "0  {'placekey': '222-222@5s5-sqj-t5f', 'distance'...  222-222@5s5-sqj-t5f  \n",
       "1  {'placekey': '222-222@5s5-v59-87q', 'distance'...  222-222@5s5-v59-87q  \n",
       "2  {'placekey': '222-222@5s5-x29-9pv', 'distance'...  222-222@5s5-x29-9pv  \n",
       "3  {'placekey': '222-222@63c-j3z-yn5', 'distance'...  222-222@63c-j3z-yn5  \n",
       "4  {'placekey': '222-222@63c-j3z-yn5', 'distance'...  222-222@63c-j42-26k  "
      ]
     },
     "execution_count": 15,
     "metadata": {},
     "output_type": "execute_result"
    }
   ],
   "source": [
    "p = pd.read_csv('../data_processing/data/distanceDetail.csv')\n",
    "len(p)\n",
    "p.head()"
   ]
  },
  {
   "cell_type": "code",
   "execution_count": 20,
   "metadata": {},
   "outputs": [
    {
     "name": "stdout",
     "output_type": "stream",
     "text": [
      "0\n",
      "1\n",
      "2\n",
      "3\n",
      "4\n",
      "5\n",
      "6\n",
      "7\n",
      "8\n",
      "9\n",
      "10\n",
      "11\n",
      "12\n",
      "13\n",
      "14\n",
      "15\n",
      "16\n",
      "17\n",
      "18\n",
      "19\n",
      "20\n",
      "21\n",
      "22\n",
      "23\n",
      "24\n",
      "25\n",
      "26\n",
      "27\n",
      "28\n",
      "29\n",
      "30\n",
      "31\n",
      "32\n"
     ]
    }
   ],
   "source": [
    "da = DocumentArray()\n",
    "for i in range(0,33):\n",
    "    print(i)\n",
    "    t = pd.read_csv(f'../data_processing/data/da/distanceAbs2000_{i}.csv')\n",
    "    for p in range(len(t)):\n",
    "        #content = {'pk':t['uri'][p],'distance':t['text'][p][1:-1]}\n",
    "        da.append(Document(uri=t['uri'][p],text=t['text'][p][1:-1]))\n",
    "da.save_csv('../data_processing/data/distanceAbstract.csv')"
   ]
  },
  {
   "cell_type": "code",
   "execution_count": 21,
   "metadata": {},
   "outputs": [
    {
     "data": {
      "text/plain": [
       "40599"
      ]
     },
     "execution_count": 21,
     "metadata": {},
     "output_type": "execute_result"
    }
   ],
   "source": [
    "r = pd.read_csv('../data_processing/data/distanceAbstract.csv')\n",
    "len(r)"
   ]
  },
  {
   "cell_type": "code",
   "execution_count": null,
   "metadata": {},
   "outputs": [],
   "source": [
    "import placekey as pk\n",
    "dd = pd.read_csv('../data_processing/data/distanceAbstract.csv')\n",
    "distance = DocumentArray()\n",
    "for i in range(len(dd)):\n",
    "    loc = pk.placekey_to_geo(dd['uri'][i])\n",
    "    #print(loc)\n",
    "    distance.append(Document(uri=dd['uri'][i],tags={'loc':loc}))\n",
    "distance.save_csv('../data_processing/data/geoLL.csv')"
   ]
  }
 ],
 "metadata": {
  "kernelspec": {
   "display_name": "jina",
   "language": "python",
   "name": "python3"
  },
  "language_info": {
   "codemirror_mode": {
    "name": "ipython",
    "version": 3
   },
   "file_extension": ".py",
   "mimetype": "text/x-python",
   "name": "python",
   "nbconvert_exporter": "python",
   "pygments_lexer": "ipython3",
   "version": "3.9.13"
  },
  "orig_nbformat": 4
 },
 "nbformat": 4,
 "nbformat_minor": 2
}
