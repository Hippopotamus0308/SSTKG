{
 "cells": [
  {
   "cell_type": "code",
   "execution_count": 58,
   "metadata": {},
   "outputs": [],
   "source": [
    "import pandas as pd\n",
    "import numpy as np\n",
    "import json\n",
    "rawData = pd.read_csv(\"./data/2023-1/spend_patterns.csv\")\n"
   ]
  },
  {
   "cell_type": "code",
   "execution_count": 59,
   "metadata": {},
   "outputs": [
    {
     "name": "stdout",
     "output_type": "stream",
     "text": [
      "0    222-222@5s5-sqj-t5f\n",
      "1    222-222@5s5-v59-87q\n",
      "2    222-222@5s5-x29-9pv\n",
      "3    222-222@63c-j3z-yn5\n",
      "4    222-222@63c-j42-26k\n",
      "5    222-222@63c-rhr-c89\n",
      "6    222-222@63c-rhx-d35\n",
      "7    222-222@63c-rj6-qvf\n",
      "8    222-222@63d-p5t-x5z\n",
      "9    222-222@63d-qmz-m8v\n",
      "Name: placekey, dtype: object\n",
      "809.4933103040427\n",
      "916.737818766737\n"
     ]
    }
   ],
   "source": [
    "import placekey as pk\n",
    "placekeys = rawData['placekey']\n",
    "print(placekeys[:10])\n",
    "distace = []\n",
    "for i in range(len(placekeys)):\n",
    "    distace.append(pk.placekey_distance(placekeys[6], placekeys[i]))\n",
    "print(pk.placekey_distance(placekeys[3], placekeys[4]))\n",
    "print(pk.placekey_distance(placekeys[5], placekeys[6]))\n",
    "\n"
   ]
  },
  {
   "cell_type": "code",
   "execution_count": 60,
   "metadata": {},
   "outputs": [
    {
     "data": {
      "text/plain": [
       "[(41.67270934977165, -84.32592113824929),\n",
       " (41.48533590908078, -84.55211047328615),\n",
       " (41.699139826064304, -83.64936258841446),\n",
       " (39.4075907391926, -81.42097669018058),\n",
       " (39.40619602497948, -81.4117292548031),\n",
       " (39.981747176082656, -82.017646399071),\n",
       " (39.9735471367141, -82.0165315484467),\n",
       " (39.94101529409618, -81.98610222194955),\n",
       " (40.07118921546244, -80.86385356000413),\n",
       " (40.7168106316925, -81.59761883892467)]"
      ]
     },
     "execution_count": 60,
     "metadata": {},
     "output_type": "execute_result"
    }
   ],
   "source": [
    "geoInfo = []\n",
    "for i in range(len(placekeys)):\n",
    "    loc = pk.placekey_to_geo(placekeys[i])\n",
    "    if loc[0]<42 and loc[0]>38 and loc[1]>-85 and loc[1]<-80:\n",
    "        geoInfo.append(loc)\n",
    "\n",
    "geoInfo[:10]\n"
   ]
  },
  {
   "cell_type": "code",
   "execution_count": 61,
   "metadata": {},
   "outputs": [],
   "source": [
    "import folium\n",
    "from folium.plugins import MarkerCluster\n",
    "ohio_map = folium.Map(location=[39.9612, -82.9988], zoom_start=8)\n",
    "marker_cluster = MarkerCluster().add_to(ohio_map)\n",
    "\n",
    "for i in geoInfo:\n",
    "    lat, lon = i[0],i[1]\n",
    "    folium.Marker(location=[lat, lon]).add_to(marker_cluster)\n",
    "ohio_map.save('merchant_map.html')"
   ]
  },
  {
   "cell_type": "code",
   "execution_count": 62,
   "metadata": {},
   "outputs": [
    {
     "name": "stdout",
     "output_type": "stream",
     "text": [
      "[0.0, 231.85038850746253, 270.83854649420084, 336.94745181185476, 350.3504163866696, 406.25761105475044, 439.2199374602244, 439.2199374602244, 439.2199374602244, 460.88624244276025, 485.4696487864016, 487.5671902937182, 553.84455843609, 579.8433530757882, 582.498867345708, 583.538021406311, 601.2119599432156, 601.2119599432156, 647.8329986612626, 647.8329986612626, 671.3152477233375, 671.3152477233375, 689.8669251802713, 689.8669251802713, 709.7631928274968, 709.8873327445466, 709.8873327445466, 709.8873327445466, 721.7585927734932, 721.8081791059496, 721.8081791059496, 803.4387072540926, 803.4387072540926, 803.4387072540926, 836.8766097630403, 836.8766097630403, 899.0935046481251, 899.0935046481251, 916.737818766737, 916.737818766737, 940.0534104503325, 940.0534104503325, 940.0534104503325, 940.0534104503325, 964.2537427016622, 1027.542376636845, 1027.542376636845, 1040.9904047872017, 1064.9904350481565, 1091.8836100990366, 1091.8836100990366, 1103.7736400188942, 1155.992985799979, 1155.992985799979, 1155.992985799979, 1190.6678657782895, 1219.6874196412036, 1284.2716796823593, 1284.4453316297534, 1347.616184575285]\n"
     ]
    }
   ],
   "source": [
    "distance = sorted(distace)\n",
    "print(distance[:60])"
   ]
  },
  {
   "cell_type": "code",
   "execution_count": 12,
   "metadata": {},
   "outputs": [
    {
     "data": {
      "text/plain": [
       "{0: 20040000.0,\n",
       " 1: 20040000.0,\n",
       " 2: 2777000.0,\n",
       " 3: 1065000.0,\n",
       " 4: 152400.0,\n",
       " 5: 21770.0,\n",
       " 6: 8227.0,\n",
       " 7: 1176.0,\n",
       " 8: 444.3,\n",
       " 9: 63.47}"
      ]
     },
     "execution_count": 12,
     "metadata": {},
     "output_type": "execute_result"
    }
   ],
   "source": [
    "pk.get_prefix_distance_dict()"
   ]
  },
  {
   "cell_type": "code",
   "execution_count": 50,
   "metadata": {},
   "outputs": [
    {
     "name": "stdout",
     "output_type": "stream",
     "text": [
      "41200\n",
      "0    222-222@5s5-sqj-t5f\n",
      "1    222-222@5s5-v59-87q\n",
      "2    222-222@5s5-x29-9pv\n",
      "3    222-222@63c-j3z-yn5\n",
      "4    222-222@63c-j42-26k\n",
      "Name: placekey, dtype: object\n"
     ]
    }
   ],
   "source": [
    "toySetPK = placekeys\n",
    "# for i in range(len(placekeys)):\n",
    "#     if pk.placekey_distance(placekeys[6], placekeys[i])<3000:\n",
    "#         toySetPK.append(placekeys[i])\n",
    "\n",
    "print(len(toySetPK))\n",
    "print(toySetPK[:5])"
   ]
  },
  {
   "cell_type": "code",
   "execution_count": 51,
   "metadata": {},
   "outputs": [
    {
     "name": "stdout",
     "output_type": "stream",
     "text": [
      "41200\n"
     ]
    }
   ],
   "source": [
    "toySetData = rawData[rawData['placekey'].isin(toySetPK)]\n",
    "print(len(toySetData))"
   ]
  },
  {
   "cell_type": "code",
   "execution_count": 52,
   "metadata": {},
   "outputs": [
    {
     "data": {
      "text/plain": [
       "Index(['placekey', 'safegraph_brand_ids', 'brands', 'spend_date_range_start',\n",
       "       'spend_date_range_end', 'raw_total_spend', 'raw_num_transactions',\n",
       "       'raw_num_customers', 'median_spend_per_transaction',\n",
       "       'median_spend_per_customer', 'spend_per_transaction_percentiles',\n",
       "       'spend_by_day', 'spend_per_transaction_by_day', 'spend_by_day_of_week',\n",
       "       'day_counts', 'spend_pct_change_vs_prev_month',\n",
       "       'spend_pct_change_vs_prev_year', 'online_transactions', 'online_spend',\n",
       "       'transaction_intermediary', 'spend_by_transaction_intermediary',\n",
       "       'bucketed_customer_frequency', 'mean_spend_per_customer_by_frequency',\n",
       "       'bucketed_customer_incomes', 'mean_spend_per_customer_by_income',\n",
       "       'customer_home_city', 'related_cross_shopping_physical_brands_pct',\n",
       "       'related_cross_shopping_online_merchants_pct',\n",
       "       'related_cross_shopping_same_category_brands_pct',\n",
       "       'related_cross_shopping_local_brands_pct',\n",
       "       'related_wireless_carrier_pct', 'related_streaming_cable_pct',\n",
       "       'related_delivery_service_pct', 'related_rideshare_service_pct',\n",
       "       'related_buynowpaylater_service_pct', 'related_payment_platform_pct'],\n",
       "      dtype='object')"
      ]
     },
     "execution_count": 52,
     "metadata": {},
     "output_type": "execute_result"
    }
   ],
   "source": [
    "toySetData.columns"
   ]
  },
  {
   "cell_type": "code",
   "execution_count": 53,
   "metadata": {},
   "outputs": [
    {
     "data": {
      "text/html": [
       "<div>\n",
       "<style scoped>\n",
       "    .dataframe tbody tr th:only-of-type {\n",
       "        vertical-align: middle;\n",
       "    }\n",
       "\n",
       "    .dataframe tbody tr th {\n",
       "        vertical-align: top;\n",
       "    }\n",
       "\n",
       "    .dataframe thead th {\n",
       "        text-align: right;\n",
       "    }\n",
       "</style>\n",
       "<table border=\"1\" class=\"dataframe\">\n",
       "  <thead>\n",
       "    <tr style=\"text-align: right;\">\n",
       "      <th></th>\n",
       "      <th>placekey</th>\n",
       "      <th>safegraph_brand_ids</th>\n",
       "      <th>brands</th>\n",
       "      <th>spend_date_range_start</th>\n",
       "      <th>spend_date_range_end</th>\n",
       "      <th>raw_total_spend</th>\n",
       "      <th>raw_num_transactions</th>\n",
       "      <th>raw_num_customers</th>\n",
       "      <th>median_spend_per_transaction</th>\n",
       "      <th>median_spend_per_customer</th>\n",
       "      <th>...</th>\n",
       "      <th>related_cross_shopping_physical_brands_pct</th>\n",
       "      <th>related_cross_shopping_online_merchants_pct</th>\n",
       "      <th>related_cross_shopping_same_category_brands_pct</th>\n",
       "      <th>related_cross_shopping_local_brands_pct</th>\n",
       "      <th>related_wireless_carrier_pct</th>\n",
       "      <th>related_streaming_cable_pct</th>\n",
       "      <th>related_delivery_service_pct</th>\n",
       "      <th>related_rideshare_service_pct</th>\n",
       "      <th>related_buynowpaylater_service_pct</th>\n",
       "      <th>related_payment_platform_pct</th>\n",
       "    </tr>\n",
       "  </thead>\n",
       "  <tbody>\n",
       "    <tr>\n",
       "      <th>0</th>\n",
       "      <td>222-222@5s5-sqj-t5f</td>\n",
       "      <td>SG_BRAND_4cbffa4318cebdb09227afca3fe16846</td>\n",
       "      <td>Circle K</td>\n",
       "      <td>2023-01-01T00:00:00-05:00</td>\n",
       "      <td>2023-02-01T00:00:00-05:00</td>\n",
       "      <td>17551.62</td>\n",
       "      <td>788</td>\n",
       "      <td>244</td>\n",
       "      <td>15.84</td>\n",
       "      <td>29.62</td>\n",
       "      <td>...</td>\n",
       "      <td>{\"Walmart\":73,\"McDonald's\":64,\"Dollar General\"...</td>\n",
       "      <td>{\"Amazon Marketplace\":42,\"Apple\":36,\"Amazon\":3...</td>\n",
       "      <td>{\"Kroger\":34,\"Meijer\":30,\"ALDI\":14,\"Casey's Ge...</td>\n",
       "      <td>{\"Dollar General\":30,\"Sunoco\":16,\"Marathon\":8,...</td>\n",
       "      <td>{\"Verizon Wireless\":29,\"AT&amp;T\":13,\"Straight Tal...</td>\n",
       "      <td>{\"Paramount+\":3,\"Philo\":1}</td>\n",
       "      <td>{\"Dashpass\":3,\"HelloFresh\":2,\"Uber Eats\":2,\"Gr...</td>\n",
       "      <td>{}</td>\n",
       "      <td>{\"Affirm.com\":6,\"Sezzle\":5,\"Klarna\":5,\"Acima C...</td>\n",
       "      <td>{\"Apple Card\":4,\"PayPal\":1}</td>\n",
       "    </tr>\n",
       "    <tr>\n",
       "      <th>1</th>\n",
       "      <td>222-222@5s5-v59-87q</td>\n",
       "      <td>SG_BRAND_bfb7ed689faace10536955b165cb8114</td>\n",
       "      <td>Best One Tire &amp; Service</td>\n",
       "      <td>2023-01-01T00:00:00-05:00</td>\n",
       "      <td>2023-02-01T00:00:00-05:00</td>\n",
       "      <td>1294.52</td>\n",
       "      <td>17</td>\n",
       "      <td>6</td>\n",
       "      <td>39.67</td>\n",
       "      <td>103.38</td>\n",
       "      <td>...</td>\n",
       "      <td>{\"Walmart\":84,\"Dollar General\":50,\"Chick-fil-A...</td>\n",
       "      <td>{\"Chewy\":50,\"Amazon Marketplace\":50,\"Amazon\":3...</td>\n",
       "      <td>{}</td>\n",
       "      <td>{\"Walmart\":84,\"Marco's Pizza\":34,\"Dollar Gener...</td>\n",
       "      <td>{\"AT&amp;T\":34,\"Straight Talk\":17}</td>\n",
       "      <td>{}</td>\n",
       "      <td>{}</td>\n",
       "      <td>{}</td>\n",
       "      <td>{\"Affirm.com\":34}</td>\n",
       "      <td>{}</td>\n",
       "    </tr>\n",
       "    <tr>\n",
       "      <th>2</th>\n",
       "      <td>222-222@5s5-x29-9pv</td>\n",
       "      <td>SG_BRAND_27ee73cd1fb6f5e432852fea401eacce</td>\n",
       "      <td>United States Postal Service (USPS)</td>\n",
       "      <td>2023-01-01T00:00:00-05:00</td>\n",
       "      <td>2023-02-01T00:00:00-05:00</td>\n",
       "      <td>1363.87</td>\n",
       "      <td>48</td>\n",
       "      <td>44</td>\n",
       "      <td>13.02</td>\n",
       "      <td>13.02</td>\n",
       "      <td>...</td>\n",
       "      <td>{\"Kroger\":78,\"Costco\":48,\"McDonald's\":48,\"Targ...</td>\n",
       "      <td>{\"Netflix\":44,\"Apple\":41,\"Amazon\":37,\"Amazon M...</td>\n",
       "      <td>{}</td>\n",
       "      <td>{\"Target\":30,\"McDonald's\":19,\"Speedway\":16,\"Mi...</td>\n",
       "      <td>{\"Verizon Wireless\":35,\"AT&amp;T\":25,\"T-Mobile\":12...</td>\n",
       "      <td>{}</td>\n",
       "      <td>{\"Dashpass\":3}</td>\n",
       "      <td>{\"Lyft\":3}</td>\n",
       "      <td>{\"Affirm.com\":5}</td>\n",
       "      <td>{\"Apple Card\":3}</td>\n",
       "    </tr>\n",
       "    <tr>\n",
       "      <th>3</th>\n",
       "      <td>222-222@63c-j3z-yn5</td>\n",
       "      <td>SG_BRAND_5596332340ca64ad125f8982d64f1ab7</td>\n",
       "      <td>Red Roof Inn</td>\n",
       "      <td>2023-01-01T00:00:00-05:00</td>\n",
       "      <td>2023-02-01T00:00:00-05:00</td>\n",
       "      <td>936.62</td>\n",
       "      <td>6</td>\n",
       "      <td>4</td>\n",
       "      <td>107.59</td>\n",
       "      <td>134.77</td>\n",
       "      <td>...</td>\n",
       "      <td>{\"Walmart\":75,\"Speedway\":75,\"Dollar General\":7...</td>\n",
       "      <td>{\"Verizon Wireless\":75,\"Amazon\":75,\"Apple\":75,...</td>\n",
       "      <td>{\"Hampton\":25,\"Quality Inn\":25}</td>\n",
       "      <td>{\"Walmart\":50,\"Lowe's\":25,\"Dollar General\":25,...</td>\n",
       "      <td>{\"Verizon Wireless\":75,\"Straight Talk\":25}</td>\n",
       "      <td>{}</td>\n",
       "      <td>{}</td>\n",
       "      <td>{}</td>\n",
       "      <td>{\"Acima Credit\":25}</td>\n",
       "      <td>{}</td>\n",
       "    </tr>\n",
       "    <tr>\n",
       "      <th>4</th>\n",
       "      <td>222-222@63c-j42-26k</td>\n",
       "      <td>SG_BRAND_6c8517821cbe4f42e48d9214f49b8b0b</td>\n",
       "      <td>Fairfield Inn &amp; Suites by Marriott</td>\n",
       "      <td>2023-01-01T00:00:00-05:00</td>\n",
       "      <td>2023-02-01T00:00:00-05:00</td>\n",
       "      <td>2221.89</td>\n",
       "      <td>13</td>\n",
       "      <td>10</td>\n",
       "      <td>224.24</td>\n",
       "      <td>224.24</td>\n",
       "      <td>...</td>\n",
       "      <td>{\"McDonald's\":90,\"Walmart\":60,\"Speedway\":60,\"S...</td>\n",
       "      <td>{\"Amazon\":70,\"Amazon Marketplace\":70,\"Apple\":4...</td>\n",
       "      <td>{\"Courtyard by Marriott\":20,\"TownePlace Suites...</td>\n",
       "      <td>{\"Walmart\":40,\"Speedway\":20,\"Applebee's\":20,\"L...</td>\n",
       "      <td>{\"Verizon Wireless\":30,\"AT&amp;T\":20}</td>\n",
       "      <td>{}</td>\n",
       "      <td>{\"Instacart\":30,\"Dashpass\":10}</td>\n",
       "      <td>{\"Lyft\":20}</td>\n",
       "      <td>{\"Progressive Leasing\":20}</td>\n",
       "      <td>{}</td>\n",
       "    </tr>\n",
       "  </tbody>\n",
       "</table>\n",
       "<p>5 rows × 36 columns</p>\n",
       "</div>"
      ],
      "text/plain": [
       "              placekey                        safegraph_brand_ids  \\\n",
       "0  222-222@5s5-sqj-t5f  SG_BRAND_4cbffa4318cebdb09227afca3fe16846   \n",
       "1  222-222@5s5-v59-87q  SG_BRAND_bfb7ed689faace10536955b165cb8114   \n",
       "2  222-222@5s5-x29-9pv  SG_BRAND_27ee73cd1fb6f5e432852fea401eacce   \n",
       "3  222-222@63c-j3z-yn5  SG_BRAND_5596332340ca64ad125f8982d64f1ab7   \n",
       "4  222-222@63c-j42-26k  SG_BRAND_6c8517821cbe4f42e48d9214f49b8b0b   \n",
       "\n",
       "                                brands     spend_date_range_start  \\\n",
       "0                             Circle K  2023-01-01T00:00:00-05:00   \n",
       "1              Best One Tire & Service  2023-01-01T00:00:00-05:00   \n",
       "2  United States Postal Service (USPS)  2023-01-01T00:00:00-05:00   \n",
       "3                         Red Roof Inn  2023-01-01T00:00:00-05:00   \n",
       "4   Fairfield Inn & Suites by Marriott  2023-01-01T00:00:00-05:00   \n",
       "\n",
       "        spend_date_range_end  raw_total_spend  raw_num_transactions  \\\n",
       "0  2023-02-01T00:00:00-05:00         17551.62                   788   \n",
       "1  2023-02-01T00:00:00-05:00          1294.52                    17   \n",
       "2  2023-02-01T00:00:00-05:00          1363.87                    48   \n",
       "3  2023-02-01T00:00:00-05:00           936.62                     6   \n",
       "4  2023-02-01T00:00:00-05:00          2221.89                    13   \n",
       "\n",
       "   raw_num_customers  median_spend_per_transaction  median_spend_per_customer  \\\n",
       "0                244                         15.84                      29.62   \n",
       "1                  6                         39.67                     103.38   \n",
       "2                 44                         13.02                      13.02   \n",
       "3                  4                        107.59                     134.77   \n",
       "4                 10                        224.24                     224.24   \n",
       "\n",
       "   ...         related_cross_shopping_physical_brands_pct  \\\n",
       "0  ...  {\"Walmart\":73,\"McDonald's\":64,\"Dollar General\"...   \n",
       "1  ...  {\"Walmart\":84,\"Dollar General\":50,\"Chick-fil-A...   \n",
       "2  ...  {\"Kroger\":78,\"Costco\":48,\"McDonald's\":48,\"Targ...   \n",
       "3  ...  {\"Walmart\":75,\"Speedway\":75,\"Dollar General\":7...   \n",
       "4  ...  {\"McDonald's\":90,\"Walmart\":60,\"Speedway\":60,\"S...   \n",
       "\n",
       "         related_cross_shopping_online_merchants_pct  \\\n",
       "0  {\"Amazon Marketplace\":42,\"Apple\":36,\"Amazon\":3...   \n",
       "1  {\"Chewy\":50,\"Amazon Marketplace\":50,\"Amazon\":3...   \n",
       "2  {\"Netflix\":44,\"Apple\":41,\"Amazon\":37,\"Amazon M...   \n",
       "3  {\"Verizon Wireless\":75,\"Amazon\":75,\"Apple\":75,...   \n",
       "4  {\"Amazon\":70,\"Amazon Marketplace\":70,\"Apple\":4...   \n",
       "\n",
       "     related_cross_shopping_same_category_brands_pct  \\\n",
       "0  {\"Kroger\":34,\"Meijer\":30,\"ALDI\":14,\"Casey's Ge...   \n",
       "1                                                 {}   \n",
       "2                                                 {}   \n",
       "3                    {\"Hampton\":25,\"Quality Inn\":25}   \n",
       "4  {\"Courtyard by Marriott\":20,\"TownePlace Suites...   \n",
       "\n",
       "             related_cross_shopping_local_brands_pct  \\\n",
       "0  {\"Dollar General\":30,\"Sunoco\":16,\"Marathon\":8,...   \n",
       "1  {\"Walmart\":84,\"Marco's Pizza\":34,\"Dollar Gener...   \n",
       "2  {\"Target\":30,\"McDonald's\":19,\"Speedway\":16,\"Mi...   \n",
       "3  {\"Walmart\":50,\"Lowe's\":25,\"Dollar General\":25,...   \n",
       "4  {\"Walmart\":40,\"Speedway\":20,\"Applebee's\":20,\"L...   \n",
       "\n",
       "                        related_wireless_carrier_pct  \\\n",
       "0  {\"Verizon Wireless\":29,\"AT&T\":13,\"Straight Tal...   \n",
       "1                     {\"AT&T\":34,\"Straight Talk\":17}   \n",
       "2  {\"Verizon Wireless\":35,\"AT&T\":25,\"T-Mobile\":12...   \n",
       "3         {\"Verizon Wireless\":75,\"Straight Talk\":25}   \n",
       "4                  {\"Verizon Wireless\":30,\"AT&T\":20}   \n",
       "\n",
       "   related_streaming_cable_pct  \\\n",
       "0   {\"Paramount+\":3,\"Philo\":1}   \n",
       "1                           {}   \n",
       "2                           {}   \n",
       "3                           {}   \n",
       "4                           {}   \n",
       "\n",
       "                        related_delivery_service_pct  \\\n",
       "0  {\"Dashpass\":3,\"HelloFresh\":2,\"Uber Eats\":2,\"Gr...   \n",
       "1                                                 {}   \n",
       "2                                     {\"Dashpass\":3}   \n",
       "3                                                 {}   \n",
       "4                     {\"Instacart\":30,\"Dashpass\":10}   \n",
       "\n",
       "   related_rideshare_service_pct  \\\n",
       "0                             {}   \n",
       "1                             {}   \n",
       "2                     {\"Lyft\":3}   \n",
       "3                             {}   \n",
       "4                    {\"Lyft\":20}   \n",
       "\n",
       "                  related_buynowpaylater_service_pct  \\\n",
       "0  {\"Affirm.com\":6,\"Sezzle\":5,\"Klarna\":5,\"Acima C...   \n",
       "1                                  {\"Affirm.com\":34}   \n",
       "2                                   {\"Affirm.com\":5}   \n",
       "3                                {\"Acima Credit\":25}   \n",
       "4                         {\"Progressive Leasing\":20}   \n",
       "\n",
       "  related_payment_platform_pct  \n",
       "0  {\"Apple Card\":4,\"PayPal\":1}  \n",
       "1                           {}  \n",
       "2             {\"Apple Card\":3}  \n",
       "3                           {}  \n",
       "4                           {}  \n",
       "\n",
       "[5 rows x 36 columns]"
      ]
     },
     "execution_count": 53,
     "metadata": {},
     "output_type": "execute_result"
    }
   ],
   "source": [
    "toySetData.head()"
   ]
  },
  {
   "cell_type": "code",
   "execution_count": 54,
   "metadata": {},
   "outputs": [
    {
     "data": {
      "text/html": [
       "<div>\n",
       "<style scoped>\n",
       "    .dataframe tbody tr th:only-of-type {\n",
       "        vertical-align: middle;\n",
       "    }\n",
       "\n",
       "    .dataframe tbody tr th {\n",
       "        vertical-align: top;\n",
       "    }\n",
       "\n",
       "    .dataframe thead th {\n",
       "        text-align: right;\n",
       "    }\n",
       "</style>\n",
       "<table border=\"1\" class=\"dataframe\">\n",
       "  <thead>\n",
       "    <tr style=\"text-align: right;\">\n",
       "      <th></th>\n",
       "      <th>placekey</th>\n",
       "      <th>safegraph_brand_ids</th>\n",
       "      <th>raw_total_spend</th>\n",
       "      <th>raw_num_transactions</th>\n",
       "      <th>raw_num_customers</th>\n",
       "      <th>spend_by_day</th>\n",
       "      <th>spend_per_transaction_by_day</th>\n",
       "      <th>spend_by_day_of_week</th>\n",
       "      <th>day_counts</th>\n",
       "      <th>related_cross_shopping_physical_brands_pct</th>\n",
       "      <th>related_cross_shopping_online_merchants_pct</th>\n",
       "      <th>related_cross_shopping_same_category_brands_pct</th>\n",
       "      <th>related_cross_shopping_local_brands_pct</th>\n",
       "    </tr>\n",
       "  </thead>\n",
       "  <tbody>\n",
       "    <tr>\n",
       "      <th>0</th>\n",
       "      <td>222-222@5s5-sqj-t5f</td>\n",
       "      <td>SG_BRAND_4cbffa4318cebdb09227afca3fe16846</td>\n",
       "      <td>17551.62</td>\n",
       "      <td>788</td>\n",
       "      <td>244</td>\n",
       "      <td>[130.33,101.27,1943.41,303.92,426.51,783.82,26...</td>\n",
       "      <td>[11.97,16.15,23.89,16.79,14.58,14.55,10.92,18....</td>\n",
       "      <td>{\"Monday\":3888.71,\"Tuesday\":5808.48,\"Wednesday...</td>\n",
       "      <td>{\"Wednesday\":4,\"Monday\":5,\"Saturday\":4,\"Thursd...</td>\n",
       "      <td>{\"Walmart\":73,\"McDonald's\":64,\"Dollar General\"...</td>\n",
       "      <td>{\"Amazon Marketplace\":42,\"Apple\":36,\"Amazon\":3...</td>\n",
       "      <td>{\"Kroger\":34,\"Meijer\":30,\"ALDI\":14,\"Casey's Ge...</td>\n",
       "      <td>{\"Dollar General\":30,\"Sunoco\":16,\"Marathon\":8,...</td>\n",
       "    </tr>\n",
       "    <tr>\n",
       "      <th>1</th>\n",
       "      <td>222-222@5s5-v59-87q</td>\n",
       "      <td>SG_BRAND_bfb7ed689faace10536955b165cb8114</td>\n",
       "      <td>1294.52</td>\n",
       "      <td>17</td>\n",
       "      <td>6</td>\n",
       "      <td>[0.00,0.00,0.00,0.00,44.91,0.00,0.00,0.00,0.00...</td>\n",
       "      <td>[null,null,null,null,44.91,null,null,null,null...</td>\n",
       "      <td>{\"Monday\":646.15,\"Tuesday\":396.70,\"Wednesday\":...</td>\n",
       "      <td>{\"Wednesday\":4,\"Monday\":5,\"Saturday\":4,\"Thursd...</td>\n",
       "      <td>{\"Walmart\":84,\"Dollar General\":50,\"Chick-fil-A...</td>\n",
       "      <td>{\"Chewy\":50,\"Amazon Marketplace\":50,\"Amazon\":3...</td>\n",
       "      <td>{}</td>\n",
       "      <td>{\"Walmart\":84,\"Marco's Pizza\":34,\"Dollar Gener...</td>\n",
       "    </tr>\n",
       "    <tr>\n",
       "      <th>2</th>\n",
       "      <td>222-222@5s5-x29-9pv</td>\n",
       "      <td>SG_BRAND_27ee73cd1fb6f5e432852fea401eacce</td>\n",
       "      <td>1363.87</td>\n",
       "      <td>48</td>\n",
       "      <td>44</td>\n",
       "      <td>[0.00,0.00,54.23,6.79,4.76,36.65,0.00,0.00,8.8...</td>\n",
       "      <td>[null,null,13.20,6.79,2.38,14.85,null,null,4.4...</td>\n",
       "      <td>{\"Monday\":43.99,\"Tuesday\":613.28,\"Wednesday\":5...</td>\n",
       "      <td>{\"Wednesday\":4,\"Monday\":5,\"Saturday\":4,\"Thursd...</td>\n",
       "      <td>{\"Kroger\":78,\"Costco\":48,\"McDonald's\":48,\"Targ...</td>\n",
       "      <td>{\"Netflix\":44,\"Apple\":41,\"Amazon\":37,\"Amazon M...</td>\n",
       "      <td>{}</td>\n",
       "      <td>{\"Target\":30,\"McDonald's\":19,\"Speedway\":16,\"Mi...</td>\n",
       "    </tr>\n",
       "    <tr>\n",
       "      <th>3</th>\n",
       "      <td>222-222@63c-j3z-yn5</td>\n",
       "      <td>SG_BRAND_5596332340ca64ad125f8982d64f1ab7</td>\n",
       "      <td>936.62</td>\n",
       "      <td>6</td>\n",
       "      <td>4</td>\n",
       "      <td>[0.00,0.00,71.35,319.38,64.56,0.00,133.64,0.00...</td>\n",
       "      <td>[null,null,71.35,319.38,64.56,null,133.64,null...</td>\n",
       "      <td>{\"Monday\":81.54,\"Tuesday\":71.35,\"Wednesday\":58...</td>\n",
       "      <td>{\"Wednesday\":4,\"Monday\":5,\"Saturday\":4,\"Thursd...</td>\n",
       "      <td>{\"Walmart\":75,\"Speedway\":75,\"Dollar General\":7...</td>\n",
       "      <td>{\"Verizon Wireless\":75,\"Amazon\":75,\"Apple\":75,...</td>\n",
       "      <td>{\"Hampton\":25,\"Quality Inn\":25}</td>\n",
       "      <td>{\"Walmart\":50,\"Lowe's\":25,\"Dollar General\":25,...</td>\n",
       "    </tr>\n",
       "    <tr>\n",
       "      <th>4</th>\n",
       "      <td>222-222@63c-j42-26k</td>\n",
       "      <td>SG_BRAND_6c8517821cbe4f42e48d9214f49b8b0b</td>\n",
       "      <td>2221.89</td>\n",
       "      <td>13</td>\n",
       "      <td>10</td>\n",
       "      <td>[0.00,0.00,4.00,0.00,0.00,0.00,0.00,0.00,311.6...</td>\n",
       "      <td>[null,null,4.00,null,null,null,null,null,311.6...</td>\n",
       "      <td>{\"Monday\":1615.39,\"Tuesday\":361.88,\"Wednesday\"...</td>\n",
       "      <td>{\"Wednesday\":4,\"Monday\":5,\"Saturday\":4,\"Thursd...</td>\n",
       "      <td>{\"McDonald's\":90,\"Walmart\":60,\"Speedway\":60,\"S...</td>\n",
       "      <td>{\"Amazon\":70,\"Amazon Marketplace\":70,\"Apple\":4...</td>\n",
       "      <td>{\"Courtyard by Marriott\":20,\"TownePlace Suites...</td>\n",
       "      <td>{\"Walmart\":40,\"Speedway\":20,\"Applebee's\":20,\"L...</td>\n",
       "    </tr>\n",
       "  </tbody>\n",
       "</table>\n",
       "</div>"
      ],
      "text/plain": [
       "              placekey                        safegraph_brand_ids  \\\n",
       "0  222-222@5s5-sqj-t5f  SG_BRAND_4cbffa4318cebdb09227afca3fe16846   \n",
       "1  222-222@5s5-v59-87q  SG_BRAND_bfb7ed689faace10536955b165cb8114   \n",
       "2  222-222@5s5-x29-9pv  SG_BRAND_27ee73cd1fb6f5e432852fea401eacce   \n",
       "3  222-222@63c-j3z-yn5  SG_BRAND_5596332340ca64ad125f8982d64f1ab7   \n",
       "4  222-222@63c-j42-26k  SG_BRAND_6c8517821cbe4f42e48d9214f49b8b0b   \n",
       "\n",
       "   raw_total_spend  raw_num_transactions  raw_num_customers  \\\n",
       "0         17551.62                   788                244   \n",
       "1          1294.52                    17                  6   \n",
       "2          1363.87                    48                 44   \n",
       "3           936.62                     6                  4   \n",
       "4          2221.89                    13                 10   \n",
       "\n",
       "                                        spend_by_day  \\\n",
       "0  [130.33,101.27,1943.41,303.92,426.51,783.82,26...   \n",
       "1  [0.00,0.00,0.00,0.00,44.91,0.00,0.00,0.00,0.00...   \n",
       "2  [0.00,0.00,54.23,6.79,4.76,36.65,0.00,0.00,8.8...   \n",
       "3  [0.00,0.00,71.35,319.38,64.56,0.00,133.64,0.00...   \n",
       "4  [0.00,0.00,4.00,0.00,0.00,0.00,0.00,0.00,311.6...   \n",
       "\n",
       "                        spend_per_transaction_by_day  \\\n",
       "0  [11.97,16.15,23.89,16.79,14.58,14.55,10.92,18....   \n",
       "1  [null,null,null,null,44.91,null,null,null,null...   \n",
       "2  [null,null,13.20,6.79,2.38,14.85,null,null,4.4...   \n",
       "3  [null,null,71.35,319.38,64.56,null,133.64,null...   \n",
       "4  [null,null,4.00,null,null,null,null,null,311.6...   \n",
       "\n",
       "                                spend_by_day_of_week  \\\n",
       "0  {\"Monday\":3888.71,\"Tuesday\":5808.48,\"Wednesday...   \n",
       "1  {\"Monday\":646.15,\"Tuesday\":396.70,\"Wednesday\":...   \n",
       "2  {\"Monday\":43.99,\"Tuesday\":613.28,\"Wednesday\":5...   \n",
       "3  {\"Monday\":81.54,\"Tuesday\":71.35,\"Wednesday\":58...   \n",
       "4  {\"Monday\":1615.39,\"Tuesday\":361.88,\"Wednesday\"...   \n",
       "\n",
       "                                          day_counts  \\\n",
       "0  {\"Wednesday\":4,\"Monday\":5,\"Saturday\":4,\"Thursd...   \n",
       "1  {\"Wednesday\":4,\"Monday\":5,\"Saturday\":4,\"Thursd...   \n",
       "2  {\"Wednesday\":4,\"Monday\":5,\"Saturday\":4,\"Thursd...   \n",
       "3  {\"Wednesday\":4,\"Monday\":5,\"Saturday\":4,\"Thursd...   \n",
       "4  {\"Wednesday\":4,\"Monday\":5,\"Saturday\":4,\"Thursd...   \n",
       "\n",
       "          related_cross_shopping_physical_brands_pct  \\\n",
       "0  {\"Walmart\":73,\"McDonald's\":64,\"Dollar General\"...   \n",
       "1  {\"Walmart\":84,\"Dollar General\":50,\"Chick-fil-A...   \n",
       "2  {\"Kroger\":78,\"Costco\":48,\"McDonald's\":48,\"Targ...   \n",
       "3  {\"Walmart\":75,\"Speedway\":75,\"Dollar General\":7...   \n",
       "4  {\"McDonald's\":90,\"Walmart\":60,\"Speedway\":60,\"S...   \n",
       "\n",
       "         related_cross_shopping_online_merchants_pct  \\\n",
       "0  {\"Amazon Marketplace\":42,\"Apple\":36,\"Amazon\":3...   \n",
       "1  {\"Chewy\":50,\"Amazon Marketplace\":50,\"Amazon\":3...   \n",
       "2  {\"Netflix\":44,\"Apple\":41,\"Amazon\":37,\"Amazon M...   \n",
       "3  {\"Verizon Wireless\":75,\"Amazon\":75,\"Apple\":75,...   \n",
       "4  {\"Amazon\":70,\"Amazon Marketplace\":70,\"Apple\":4...   \n",
       "\n",
       "     related_cross_shopping_same_category_brands_pct  \\\n",
       "0  {\"Kroger\":34,\"Meijer\":30,\"ALDI\":14,\"Casey's Ge...   \n",
       "1                                                 {}   \n",
       "2                                                 {}   \n",
       "3                    {\"Hampton\":25,\"Quality Inn\":25}   \n",
       "4  {\"Courtyard by Marriott\":20,\"TownePlace Suites...   \n",
       "\n",
       "             related_cross_shopping_local_brands_pct  \n",
       "0  {\"Dollar General\":30,\"Sunoco\":16,\"Marathon\":8,...  \n",
       "1  {\"Walmart\":84,\"Marco's Pizza\":34,\"Dollar Gener...  \n",
       "2  {\"Target\":30,\"McDonald's\":19,\"Speedway\":16,\"Mi...  \n",
       "3  {\"Walmart\":50,\"Lowe's\":25,\"Dollar General\":25,...  \n",
       "4  {\"Walmart\":40,\"Speedway\":20,\"Applebee's\":20,\"L...  "
      ]
     },
     "execution_count": 54,
     "metadata": {},
     "output_type": "execute_result"
    }
   ],
   "source": [
    "usefulData = toySetData[['placekey','safegraph_brand_ids','raw_total_spend','raw_num_transactions','raw_num_customers',\n",
    "                      'spend_by_day', 'spend_per_transaction_by_day', 'spend_by_day_of_week',\n",
    "                      'day_counts','related_cross_shopping_physical_brands_pct',\n",
    "                      'related_cross_shopping_online_merchants_pct',\n",
    "                      'related_cross_shopping_same_category_brands_pct',\n",
    "                      'related_cross_shopping_local_brands_pct',]]\n",
    "usefulData.head()"
   ]
  },
  {
   "cell_type": "code",
   "execution_count": 55,
   "metadata": {},
   "outputs": [
    {
     "data": {
      "text/plain": [
       "1221"
      ]
     },
     "execution_count": 55,
     "metadata": {},
     "output_type": "execute_result"
    }
   ],
   "source": [
    "brand = pd.read_csv(\"./data/2023-1/brand_info.csv\")\n",
    "toyBrand = usefulData[usefulData['safegraph_brand_ids'].notna()]['safegraph_brand_ids'].to_numpy()\n",
    "toyBrandInfo = brand[brand['safegraph_brand_id'].isin(toyBrand)]\n",
    "len(toyBrandInfo)"
   ]
  },
  {
   "cell_type": "code",
   "execution_count": 56,
   "metadata": {},
   "outputs": [
    {
     "data": {
      "text/html": [
       "<div>\n",
       "<style scoped>\n",
       "    .dataframe tbody tr th:only-of-type {\n",
       "        vertical-align: middle;\n",
       "    }\n",
       "\n",
       "    .dataframe tbody tr th {\n",
       "        vertical-align: top;\n",
       "    }\n",
       "\n",
       "    .dataframe thead th {\n",
       "        text-align: right;\n",
       "    }\n",
       "</style>\n",
       "<table border=\"1\" class=\"dataframe\">\n",
       "  <thead>\n",
       "    <tr style=\"text-align: right;\">\n",
       "      <th></th>\n",
       "      <th>safegraph_brand_id</th>\n",
       "      <th>brand_name</th>\n",
       "      <th>parent_safegraph_brand_id</th>\n",
       "      <th>naics_code</th>\n",
       "      <th>top_category</th>\n",
       "      <th>sub_category</th>\n",
       "      <th>stock_symbol</th>\n",
       "      <th>stock_exchange</th>\n",
       "      <th>iso_country_codes_open</th>\n",
       "      <th>iso_country_codes_closed</th>\n",
       "    </tr>\n",
       "  </thead>\n",
       "  <tbody>\n",
       "    <tr>\n",
       "      <th>38</th>\n",
       "      <td>SG_BRAND_3b54aa029dabc38a</td>\n",
       "      <td>4 Wheel Parts</td>\n",
       "      <td>NaN</td>\n",
       "      <td>441310</td>\n",
       "      <td>Automotive Parts, Accessories, and Tire Stores</td>\n",
       "      <td>Automotive Parts and Accessories Stores</td>\n",
       "      <td>NaN</td>\n",
       "      <td>NaN</td>\n",
       "      <td>[\"US\"]</td>\n",
       "      <td>[\"US\"]</td>\n",
       "    </tr>\n",
       "    <tr>\n",
       "      <th>43</th>\n",
       "      <td>SG_BRAND_77202d314aaa383b1b39b199f03cbd85</td>\n",
       "      <td>5.11 Tactical</td>\n",
       "      <td>NaN</td>\n",
       "      <td>451110</td>\n",
       "      <td>Sporting Goods, Hobby, and Musical Instrument ...</td>\n",
       "      <td>Sporting Goods Stores</td>\n",
       "      <td>NaN</td>\n",
       "      <td>NaN</td>\n",
       "      <td>[\"ID\",\"JP\",\"CN\",\"FI\",\"TW\",\"DE\",\"US\",\"AE\",\"AU\"]</td>\n",
       "      <td>[\"US\",\"CN\"]</td>\n",
       "    </tr>\n",
       "    <tr>\n",
       "      <th>49</th>\n",
       "      <td>SG_BRAND_2e2448f12fc87fe452e9166153797a7f</td>\n",
       "      <td>7-Eleven</td>\n",
       "      <td>SG_BRAND_9ab7e893555b9940</td>\n",
       "      <td>445120</td>\n",
       "      <td>Grocery Stores</td>\n",
       "      <td>Convenience Stores</td>\n",
       "      <td>SVNDY</td>\n",
       "      <td>OTCMKTS</td>\n",
       "      <td>[\"MX\",\"JP\",\"TH\",\"CN\",\"PH\",\"TW\",\"SG\",\"DK\",\"MN\",...</td>\n",
       "      <td>[\"JP\",\"CN\",\"TW\",\"SG\",\"DK\",\"US\",\"CA\",\"NO\",\"AU\",...</td>\n",
       "    </tr>\n",
       "    <tr>\n",
       "      <th>51</th>\n",
       "      <td>SG_BRAND_fbd7939d674997cdb4692d34de8633c4</td>\n",
       "      <td>76</td>\n",
       "      <td>SG_BRAND_73ec7f2366612562515e7201b08b9d0b</td>\n",
       "      <td>447110</td>\n",
       "      <td>Gasoline Stations</td>\n",
       "      <td>Gasoline Stations with Convenience Stores</td>\n",
       "      <td>PSX</td>\n",
       "      <td>NYSE</td>\n",
       "      <td>[\"MX\",\"US\"]</td>\n",
       "      <td>[\"US\"]</td>\n",
       "    </tr>\n",
       "    <tr>\n",
       "      <th>53</th>\n",
       "      <td>SG_BRAND_d005a2566278a1288029eec56fc08af5</td>\n",
       "      <td>84 Lumber</td>\n",
       "      <td>NaN</td>\n",
       "      <td>444190</td>\n",
       "      <td>Building Material and Supplies Dealers</td>\n",
       "      <td>Other Building Material Dealers</td>\n",
       "      <td>NaN</td>\n",
       "      <td>NaN</td>\n",
       "      <td>[\"US\"]</td>\n",
       "      <td>[\"US\"]</td>\n",
       "    </tr>\n",
       "  </tbody>\n",
       "</table>\n",
       "</div>"
      ],
      "text/plain": [
       "                           safegraph_brand_id     brand_name  \\\n",
       "38                  SG_BRAND_3b54aa029dabc38a  4 Wheel Parts   \n",
       "43  SG_BRAND_77202d314aaa383b1b39b199f03cbd85  5.11 Tactical   \n",
       "49  SG_BRAND_2e2448f12fc87fe452e9166153797a7f       7-Eleven   \n",
       "51  SG_BRAND_fbd7939d674997cdb4692d34de8633c4             76   \n",
       "53  SG_BRAND_d005a2566278a1288029eec56fc08af5      84 Lumber   \n",
       "\n",
       "                    parent_safegraph_brand_id  naics_code  \\\n",
       "38                                        NaN      441310   \n",
       "43                                        NaN      451110   \n",
       "49                  SG_BRAND_9ab7e893555b9940      445120   \n",
       "51  SG_BRAND_73ec7f2366612562515e7201b08b9d0b      447110   \n",
       "53                                        NaN      444190   \n",
       "\n",
       "                                         top_category  \\\n",
       "38     Automotive Parts, Accessories, and Tire Stores   \n",
       "43  Sporting Goods, Hobby, and Musical Instrument ...   \n",
       "49                                     Grocery Stores   \n",
       "51                                  Gasoline Stations   \n",
       "53             Building Material and Supplies Dealers   \n",
       "\n",
       "                                 sub_category stock_symbol stock_exchange  \\\n",
       "38    Automotive Parts and Accessories Stores          NaN            NaN   \n",
       "43                      Sporting Goods Stores          NaN            NaN   \n",
       "49                         Convenience Stores        SVNDY        OTCMKTS   \n",
       "51  Gasoline Stations with Convenience Stores          PSX           NYSE   \n",
       "53            Other Building Material Dealers          NaN            NaN   \n",
       "\n",
       "                               iso_country_codes_open  \\\n",
       "38                                             [\"US\"]   \n",
       "43     [\"ID\",\"JP\",\"CN\",\"FI\",\"TW\",\"DE\",\"US\",\"AE\",\"AU\"]   \n",
       "49  [\"MX\",\"JP\",\"TH\",\"CN\",\"PH\",\"TW\",\"SG\",\"DK\",\"MN\",...   \n",
       "51                                        [\"MX\",\"US\"]   \n",
       "53                                             [\"US\"]   \n",
       "\n",
       "                             iso_country_codes_closed  \n",
       "38                                             [\"US\"]  \n",
       "43                                        [\"US\",\"CN\"]  \n",
       "49  [\"JP\",\"CN\",\"TW\",\"SG\",\"DK\",\"US\",\"CA\",\"NO\",\"AU\",...  \n",
       "51                                             [\"US\"]  \n",
       "53                                             [\"US\"]  "
      ]
     },
     "execution_count": 56,
     "metadata": {},
     "output_type": "execute_result"
    }
   ],
   "source": [
    "toyBrandInfo.head()"
   ]
  },
  {
   "cell_type": "code",
   "execution_count": 57,
   "metadata": {},
   "outputs": [
    {
     "data": {
      "text/plain": [
       "25340"
      ]
     },
     "execution_count": 57,
     "metadata": {},
     "output_type": "execute_result"
    }
   ],
   "source": [
    "toyBrandInfo = toyBrandInfo[['safegraph_brand_id','naics_code']]\n",
    "finalData = pd.merge(usefulData, toyBrandInfo, left_on='safegraph_brand_ids',right_on='safegraph_brand_id')\n",
    "len(finalData)\n",
    "#finalData.head()"
   ]
  },
  {
   "cell_type": "code",
   "execution_count": 31,
   "metadata": {},
   "outputs": [
    {
     "name": "stdout",
     "output_type": "stream",
     "text": [
      "c8630e3edc10a4fa504384dc120fe6a3\n",
      "222-222@63c-rhr-c89\n",
      "[0.00,93.85,0.00,0.00,0.00,0.00,0.00,0.00,0.00,0.00,0.00,82.57,141.46,0.00,0.00,0.00,0.00,0.00,70.73,0.00,0.00,0.00,1070.73,0.00,0.00,165.14,0.00,0.00,0.00,8.57,0.00]\n",
      "SG_BRAND_5166fd3fee463b7c9992293e84f098f0\n"
     ]
    }
   ],
   "source": [
    "from docarray import Document, DocumentArray\n",
    "entities = DocumentArray.from_dataframe(finalData)\n",
    "print(entities[0,'id'])\n",
    "print(entities[0,'tags']['placekey'])\n",
    "print(entities[0,'tags']['spend_by_day'])\n",
    "print(entities[0,'tags']['safegraph_brand_id'])\n"
   ]
  },
  {
   "cell_type": "code",
   "execution_count": 32,
   "metadata": {},
   "outputs": [],
   "source": [
    "from math import log10\n",
    "def initial_influence_cal(dis, cat):\n",
    "    def simi(str1, str2):\n",
    "        first_two_similarity = int(str1[:2] == str2[:2])\n",
    "        last_similarity = int(str1[2] == str2[2])\n",
    "        similarity = (0.8 * first_two_similarity) + (0.2 * last_similarity)\n",
    "        return similarity\n",
    "    return log10(dis+1)*simi(cat[0],cat[1])"
   ]
  },
  {
   "cell_type": "code",
   "execution_count": 33,
   "metadata": {},
   "outputs": [],
   "source": [
    "def relation_formation(dataframe, index, category_name, category_param, distance_name,distance_param = 0):\n",
    "    dis = pk.placekey_distance(dataframe[distance_name][0],dataframe[distance_name][index])\n",
    "    cat = [str(dataframe[category_name][0])[:category_param],str(dataframe[category_name][index])[:category_param]]\n",
    "    influence = initial_influence_cal(dis, cat)\n",
    "    return Document(\n",
    "        tags = {\n",
    "            'distance': dis,\n",
    "            'category': cat,\n",
    "            'influence': influence,\n",
    "        }\n",
    "    )"
   ]
  },
  {
   "cell_type": "code",
   "execution_count": 34,
   "metadata": {},
   "outputs": [],
   "source": [
    "relations = DocumentArray()\n",
    "for i in range(len(finalData)):\n",
    "    doc = relation_formation(finalData, i, 'naics_code', 3, 'placekey')\n",
    "    relations.append(doc)\n"
   ]
  },
  {
   "cell_type": "code",
   "execution_count": 35,
   "metadata": {},
   "outputs": [],
   "source": [
    "finalDocarray = DocumentArray()\n",
    "finalDocarray.append(Document(text = 'fact',tags={'category': 'fact'}, chunks = DocumentArray.empty(len(finalData))))\n",
    "finalDocarray.append(entities)\n",
    "finalDocarray.append(relations)"
   ]
  },
  {
   "cell_type": "code",
   "execution_count": 36,
   "metadata": {},
   "outputs": [
    {
     "name": "stdout",
     "output_type": "stream",
     "text": [
      "<Document ('id', 'text', 'tags', 'chunks') at f4dcf8fb0ec52d6e16d357c30a544b12>\n",
      "<DocumentArray (length=106) at 140315782850112>\n",
      "<DocumentArray (length=106) at 140310171151328>\n"
     ]
    }
   ],
   "source": [
    "print(finalDocarray[0])\n",
    "print(finalDocarray[1])\n",
    "print(finalDocarray[2])"
   ]
  },
  {
   "cell_type": "code",
   "execution_count": 37,
   "metadata": {},
   "outputs": [
    {
     "data": {
      "text/html": [
       "<pre style=\"white-space:pre;overflow-x:auto;line-height:normal;font-family:Menlo,'DejaVu Sans Mono',consolas,'Courier New',monospace\">╭─────────────── Documents Summary ────────────────╮\n",
       "│                                                  │\n",
       "│   Type                   DocumentArrayInMemory   │\n",
       "│   Length                 <span style=\"color: #008080; text-decoration-color: #008080; font-weight: bold\">106</span>                     │\n",
       "│   Homogenous Documents   <span style=\"color: #00ff00; text-decoration-color: #00ff00; font-style: italic\">True</span>                    │\n",
       "│   Common Attributes      <span style=\"font-weight: bold\">(</span><span style=\"color: #008000; text-decoration-color: #008000\">'id'</span>, <span style=\"color: #008000; text-decoration-color: #008000\">'tags'</span><span style=\"font-weight: bold\">)</span>          │\n",
       "│   Multimodal dataclass   <span style=\"color: #ff0000; text-decoration-color: #ff0000; font-style: italic\">False</span>                   │\n",
       "│                                                  │\n",
       "╰──────────────────────────────────────────────────╯\n",
       "╭───────────────────── Attributes Summary ─────────────────────╮\n",
       "│                                                              │\n",
       "│  <span style=\"font-weight: bold\"> Attribute </span> <span style=\"font-weight: bold\"> Data type </span> <span style=\"font-weight: bold\"> #Unique values </span> <span style=\"font-weight: bold\"> Has empty value </span>  │\n",
       "│  ──────────────────────────────────────────────────────────  │\n",
       "│   id          <span style=\"font-weight: bold\">(</span><span style=\"color: #008000; text-decoration-color: #008000\">'str'</span>,<span style=\"font-weight: bold\">)</span>    <span style=\"color: #008080; text-decoration-color: #008080; font-weight: bold\">106</span>              <span style=\"color: #ff0000; text-decoration-color: #ff0000; font-style: italic\">False</span>             │\n",
       "│   tags        <span style=\"font-weight: bold\">(</span><span style=\"color: #008000; text-decoration-color: #008000\">'dict'</span>,<span style=\"font-weight: bold\">)</span>   <span style=\"color: #008080; text-decoration-color: #008080; font-weight: bold\">106</span>              <span style=\"color: #ff0000; text-decoration-color: #ff0000; font-style: italic\">False</span>             │\n",
       "│                                                              │\n",
       "╰──────────────────────────────────────────────────────────────╯\n",
       "</pre>\n"
      ],
      "text/plain": [
       "╭─────────────── Documents Summary ────────────────╮\n",
       "│                                                  │\n",
       "│   Type                   DocumentArrayInMemory   │\n",
       "│   Length                 \u001b[1;36m106\u001b[0m                     │\n",
       "│   Homogenous Documents   \u001b[3;92mTrue\u001b[0m                    │\n",
       "│   Common Attributes      \u001b[1m(\u001b[0m\u001b[32m'id'\u001b[0m, \u001b[32m'tags'\u001b[0m\u001b[1m)\u001b[0m          │\n",
       "│   Multimodal dataclass   \u001b[3;91mFalse\u001b[0m                   │\n",
       "│                                                  │\n",
       "╰──────────────────────────────────────────────────╯\n",
       "╭───────────────────── Attributes Summary ─────────────────────╮\n",
       "│                                                              │\n",
       "│  \u001b[1m \u001b[0m\u001b[1mAttribute\u001b[0m\u001b[1m \u001b[0m \u001b[1m \u001b[0m\u001b[1mData type\u001b[0m\u001b[1m \u001b[0m \u001b[1m \u001b[0m\u001b[1m#Unique values\u001b[0m\u001b[1m \u001b[0m \u001b[1m \u001b[0m\u001b[1mHas empty value\u001b[0m\u001b[1m \u001b[0m  │\n",
       "│  ──────────────────────────────────────────────────────────  │\n",
       "│   id          \u001b[1m(\u001b[0m\u001b[32m'str'\u001b[0m,\u001b[1m)\u001b[0m    \u001b[1;36m106\u001b[0m              \u001b[3;91mFalse\u001b[0m             │\n",
       "│   tags        \u001b[1m(\u001b[0m\u001b[32m'dict'\u001b[0m,\u001b[1m)\u001b[0m   \u001b[1;36m106\u001b[0m              \u001b[3;91mFalse\u001b[0m             │\n",
       "│                                                              │\n",
       "╰──────────────────────────────────────────────────────────────╯\n"
      ]
     },
     "metadata": {},
     "output_type": "display_data"
    }
   ],
   "source": [
    "finalDocarray[1].summary()"
   ]
  },
  {
   "cell_type": "code",
   "execution_count": 38,
   "metadata": {},
   "outputs": [
    {
     "data": {
      "text/html": [
       "<pre style=\"white-space:pre;overflow-x:auto;line-height:normal;font-family:Menlo,'DejaVu Sans Mono',consolas,'Courier New',monospace\">╭─────────────── Documents Summary ────────────────╮\n",
       "│                                                  │\n",
       "│   Type                   DocumentArrayInMemory   │\n",
       "│   Length                 <span style=\"color: #008080; text-decoration-color: #008080; font-weight: bold\">106</span>                     │\n",
       "│   Homogenous Documents   <span style=\"color: #00ff00; text-decoration-color: #00ff00; font-style: italic\">True</span>                    │\n",
       "│   Common Attributes      <span style=\"font-weight: bold\">(</span><span style=\"color: #008000; text-decoration-color: #008000\">'id'</span>, <span style=\"color: #008000; text-decoration-color: #008000\">'tags'</span><span style=\"font-weight: bold\">)</span>          │\n",
       "│   Multimodal dataclass   <span style=\"color: #ff0000; text-decoration-color: #ff0000; font-style: italic\">False</span>                   │\n",
       "│                                                  │\n",
       "╰──────────────────────────────────────────────────╯\n",
       "╭───────────────────── Attributes Summary ─────────────────────╮\n",
       "│                                                              │\n",
       "│  <span style=\"font-weight: bold\"> Attribute </span> <span style=\"font-weight: bold\"> Data type </span> <span style=\"font-weight: bold\"> #Unique values </span> <span style=\"font-weight: bold\"> Has empty value </span>  │\n",
       "│  ──────────────────────────────────────────────────────────  │\n",
       "│   id          <span style=\"font-weight: bold\">(</span><span style=\"color: #008000; text-decoration-color: #008000\">'str'</span>,<span style=\"font-weight: bold\">)</span>    <span style=\"color: #008080; text-decoration-color: #008080; font-weight: bold\">106</span>              <span style=\"color: #ff0000; text-decoration-color: #ff0000; font-style: italic\">False</span>             │\n",
       "│   tags        <span style=\"font-weight: bold\">(</span><span style=\"color: #008000; text-decoration-color: #008000\">'dict'</span>,<span style=\"font-weight: bold\">)</span>   <span style=\"color: #008080; text-decoration-color: #008080; font-weight: bold\">106</span>              <span style=\"color: #ff0000; text-decoration-color: #ff0000; font-style: italic\">False</span>             │\n",
       "│                                                              │\n",
       "╰──────────────────────────────────────────────────────────────╯\n",
       "</pre>\n"
      ],
      "text/plain": [
       "╭─────────────── Documents Summary ────────────────╮\n",
       "│                                                  │\n",
       "│   Type                   DocumentArrayInMemory   │\n",
       "│   Length                 \u001b[1;36m106\u001b[0m                     │\n",
       "│   Homogenous Documents   \u001b[3;92mTrue\u001b[0m                    │\n",
       "│   Common Attributes      \u001b[1m(\u001b[0m\u001b[32m'id'\u001b[0m, \u001b[32m'tags'\u001b[0m\u001b[1m)\u001b[0m          │\n",
       "│   Multimodal dataclass   \u001b[3;91mFalse\u001b[0m                   │\n",
       "│                                                  │\n",
       "╰──────────────────────────────────────────────────╯\n",
       "╭───────────────────── Attributes Summary ─────────────────────╮\n",
       "│                                                              │\n",
       "│  \u001b[1m \u001b[0m\u001b[1mAttribute\u001b[0m\u001b[1m \u001b[0m \u001b[1m \u001b[0m\u001b[1mData type\u001b[0m\u001b[1m \u001b[0m \u001b[1m \u001b[0m\u001b[1m#Unique values\u001b[0m\u001b[1m \u001b[0m \u001b[1m \u001b[0m\u001b[1mHas empty value\u001b[0m\u001b[1m \u001b[0m  │\n",
       "│  ──────────────────────────────────────────────────────────  │\n",
       "│   id          \u001b[1m(\u001b[0m\u001b[32m'str'\u001b[0m,\u001b[1m)\u001b[0m    \u001b[1;36m106\u001b[0m              \u001b[3;91mFalse\u001b[0m             │\n",
       "│   tags        \u001b[1m(\u001b[0m\u001b[32m'dict'\u001b[0m,\u001b[1m)\u001b[0m   \u001b[1;36m106\u001b[0m              \u001b[3;91mFalse\u001b[0m             │\n",
       "│                                                              │\n",
       "╰──────────────────────────────────────────────────────────────╯\n"
      ]
     },
     "metadata": {},
     "output_type": "display_data"
    }
   ],
   "source": [
    "finalDocarray[2].summary()"
   ]
  },
  {
   "cell_type": "code",
   "execution_count": 64,
   "metadata": {},
   "outputs": [
    {
     "data": {
      "text/plain": [
       "Index(['placekey', 'parent_placekey', 'location_name', 'safegraph_brand_ids',\n",
       "       'brands', 'store_id', 'top_category', 'sub_category', 'naics_code',\n",
       "       'latitude', 'longitude', 'street_address', 'city', 'region',\n",
       "       'postal_code', 'iso_country_code', 'phone_number', 'open_hours',\n",
       "       'category_tags', 'opened_on', 'closed_on', 'tracking_closed_since',\n",
       "       'websites', 'geometry_type'],\n",
       "      dtype='object')"
      ]
     },
     "execution_count": 64,
     "metadata": {},
     "output_type": "execute_result"
    }
   ],
   "source": [
    "poi1.columns"
   ]
  },
  {
   "cell_type": "code",
   "execution_count": 69,
   "metadata": {},
   "outputs": [],
   "source": [
    "def poi_partition(num,pks):\n",
    "    fname = f'./data/poi/core_poi-part{num}.csv'\n",
    "    poi = pd.read_csv(fname)\n",
    "    frame = poi[poi['placekey'].isin(pks)]\n",
    "    return frame"
   ]
  },
  {
   "cell_type": "code",
   "execution_count": 70,
   "metadata": {},
   "outputs": [],
   "source": [
    "poi_info = poi_partition(1,placekeys)\n",
    "\n",
    "for i in range(2,36):\n",
    "    poi_info = pd.concat([poi_info,poi_partition(i,placekeys)],ignore_index=True)\n"
   ]
  },
  {
   "cell_type": "code",
   "execution_count": 71,
   "metadata": {},
   "outputs": [],
   "source": [
    "poi_info.to_csv('./data/ohiopoi.csv')"
   ]
  },
  {
   "cell_type": "code",
   "execution_count": 72,
   "metadata": {},
   "outputs": [
    {
     "data": {
      "text/plain": [
       "41200"
      ]
     },
     "execution_count": 72,
     "metadata": {},
     "output_type": "execute_result"
    }
   ],
   "source": [
    "len(poi_info)"
   ]
  },
  {
   "cell_type": "code",
   "execution_count": null,
   "metadata": {},
   "outputs": [],
   "source": []
  }
 ],
 "metadata": {
  "kernelspec": {
   "display_name": "unsw",
   "language": "python",
   "name": "python3"
  },
  "language_info": {
   "codemirror_mode": {
    "name": "ipython",
    "version": 3
   },
   "file_extension": ".py",
   "mimetype": "text/x-python",
   "name": "python",
   "nbconvert_exporter": "python",
   "pygments_lexer": "ipython3",
   "version": "3.9.13"
  },
  "orig_nbformat": 4
 },
 "nbformat": 4,
 "nbformat_minor": 2
}
