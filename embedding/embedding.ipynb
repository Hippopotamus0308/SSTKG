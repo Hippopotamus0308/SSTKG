{
 "cells": [
  {
   "cell_type": "code",
   "execution_count": 1,
   "metadata": {},
   "outputs": [],
   "source": [
    "from jina import Document, DocumentArray\n",
    "import pandas as pd\n",
    "import numpy as np"
   ]
  },
  {
   "cell_type": "code",
   "execution_count": 2,
   "metadata": {},
   "outputs": [],
   "source": [
    "dd = pd.read_csv('../data_processing/data/geoLL.csv')\n",
    "import json\n",
    "\n",
    "locRes = []\n",
    "for i in range(len(dd)):\n",
    "    loc = dd['tag__loc'][i]\n",
    "    array = json.loads(loc.replace(\"'\", '\"'))\n",
    "    locRes.append({'pk':dd['uri'][i],'loc':array})\n",
    "\n"
   ]
  },
  {
   "cell_type": "code",
   "execution_count": 3,
   "metadata": {},
   "outputs": [
    {
     "name": "stdout",
     "output_type": "stream",
     "text": [
      "[41.67270934977165, -84.32592113824929]\n",
      "[-0.00929724 -8.0477705 ]\n",
      "------------\n",
      "[41.48533590908078, -84.55211047328615]\n",
      "[ 0.20218188 -8.151081  ]\n",
      "------------\n",
      "[41.699139826064304, -83.64936258841446]\n",
      "[-0.431298  -7.5499697]\n",
      "------------\n",
      "[39.4075907391926, -81.42097669018058]\n",
      "[-1.304652   1.3046039]\n",
      "------------\n",
      "[39.40619602497948, -81.4117292548031]\n",
      "[-1.3048426  1.3115875]\n",
      "------------\n",
      "[39.981747176082656, -82.017646399071]\n",
      "[-1.6317391   0.50543284]\n",
      "------------\n"
     ]
    }
   ],
   "source": [
    "from sklearn.manifold._t_sne import TSNE\n",
    "\n",
    "loc_test = []\n",
    "for i in range(100):\n",
    "    loc_test.append(locRes[i]['loc'])\n",
    "\n",
    "coords = np.array(loc_test)\n",
    "tsne = TSNE(n_components=2)\n",
    "coords_tsne = tsne.fit_transform(coords)\n",
    "for i in range(6):\n",
    "    print(locRes[i]['loc'])\n",
    "    print(coords_tsne[i])\n",
    "    print('------------')"
   ]
  },
  {
   "cell_type": "code",
   "execution_count": 4,
   "metadata": {},
   "outputs": [
    {
     "name": "stdout",
     "output_type": "stream",
     "text": [
      "[41.67270934977165, -84.32592113824929]\n",
      "[-0.26365091 -1.85964403]\n",
      "------------\n",
      "[41.48533590908078, -84.55211047328615]\n",
      "[-0.54734296 -1.80792553]\n",
      "------------\n",
      "[41.699139826064304, -83.64936258841446]\n",
      "[ 0.33373916 -1.55340034]\n",
      "------------\n",
      "[39.4075907391926, -81.42097669018058]\n",
      "[1.30516591 1.42822625]\n",
      "------------\n",
      "[39.40619602497948, -81.4117292548031]\n",
      "[1.33033214 1.41615176]\n",
      "------------\n",
      "[39.981747176082656, -82.017646399071]\n",
      "[1.00921003 0.65045374]\n",
      "------------\n"
     ]
    },
    {
     "name": "stderr",
     "output_type": "stream",
     "text": [
      "\u001b[1;33mFutureWarning: The default value of `normalized_stress` will change to `'auto'` in version 1.4. To suppress this warning, manually set the value of `normalized_stress`.\u001b[0m \u001b[1;30m(raised from /Users/yangruiyi/opt/anaconda3/envs/jina/lib/python3.9/site-packages/sklearn/manifold/_mds.py:299)\u001b[0m\n"
     ]
    }
   ],
   "source": [
    "from sklearn.manifold import MDS\n",
    "\n",
    "mds = MDS(n_components=2)\n",
    "coords_mds = mds.fit_transform(coords)\n",
    "for i in range(6):\n",
    "    print(locRes[i]['loc'])\n",
    "    print(coords_mds[i])\n",
    "    print('------------')"
   ]
  },
  {
   "cell_type": "code",
   "execution_count": 7,
   "metadata": {},
   "outputs": [
    {
     "data": {
      "text/plain": [
       "'[130.33,101.27,1943.41,303.92,426.51,783.82,267.28,217.63,1034.82,512.00,322.73,388.95,769.74,195.24,111.58,76.13,1997.60,538.63,685.44,579.48,260.37,93.60,1334.10,583.27,482.91,294.49,641.90,42.33,317.55,1342.39,772.20]'"
      ]
     },
     "execution_count": 7,
     "metadata": {},
     "output_type": "execute_result"
    }
   ],
   "source": [
    "selling = pd.read_csv('../data_processing/data/2023-1/spend_patterns.csv')\n",
    "selling_record = selling['spend_by_day'][0]\n",
    "\n",
    "selling_record"
   ]
  },
  {
   "cell_type": "code",
   "execution_count": 11,
   "metadata": {},
   "outputs": [
    {
     "data": {
      "text/plain": [
       "[[130.33, 101.27, 1943.41, 303.92, 426.51, 783.82, 267.28],\n",
       " [217.63, 1034.82, 512.0, 322.73, 388.95, 769.74, 195.24],\n",
       " [111.58, 76.13, 1997.6, 538.63, 685.44, 579.48, 260.37],\n",
       " [93.6, 1334.1, 583.27, 482.91, 294.49, 641.9, 42.33]]"
      ]
     },
     "execution_count": 11,
     "metadata": {},
     "output_type": "execute_result"
    }
   ],
   "source": [
    "selling_re = [float(x) for x in selling_record[1:-1].split(',')]\n",
    "#print(selling_re)\n",
    "selling_records = []\n",
    "for i in range(4):\n",
    "    list = []\n",
    "    for j in range(7):\n",
    "        list.append(selling_re[j+i*7])\n",
    "    selling_records.append(list)\n",
    "selling_records"
   ]
  },
  {
   "cell_type": "code",
   "execution_count": 1,
   "metadata": {},
   "outputs": [
    {
     "ename": "",
     "evalue": "",
     "output_type": "error",
     "traceback": [
      "\u001b[1;31mCanceled future for execute_request message before replies were done"
     ]
    },
    {
     "ename": "",
     "evalue": "",
     "output_type": "error",
     "traceback": [
      "\u001b[1;31mThe Kernel crashed while executing code in the the current cell or a previous cell. Please review the code in the cell(s) to identify a possible cause of the failure. Click <a href='https://aka.ms/vscodeJupyterKernelCrash'>here</a> for more info. View Jupyter <a href='command:jupyter.viewOutput'>log</a> for further details."
     ]
    }
   ],
   "source": [
    "selling_records = np.array(selling_records)\n",
    "selling_records = selling_records.reshape((selling_records.shape[0], selling_records.shape[1], 1))\n",
    "print('22222')\n",
    "model = Sequential()\n",
    "model.add(LSTM(50, activation='relu', input_shape=(7, 1)))\n",
    "model.add(Dense(1))\n",
    "print('1111')\n",
    "model.compile(optimizer='adam', loss='mse')\n",
    "model.fit(selling_records, epochs=10, verbose=0)"
   ]
  },
  {
   "cell_type": "code",
   "execution_count": null,
   "metadata": {},
   "outputs": [],
   "source": [
    "from tensorflow.keras.models import Model\n",
    "\n",
    "embedding_model = Model(inputs=model.inputs, outputs=model.layers[0].output)\n",
    "\n",
    "embeddings = embedding_model.predict(selling_records)"
   ]
  }
 ],
 "metadata": {
  "kernelspec": {
   "display_name": "jina",
   "language": "python",
   "name": "python3"
  },
  "language_info": {
   "codemirror_mode": {
    "name": "ipython",
    "version": 3
   },
   "file_extension": ".py",
   "mimetype": "text/x-python",
   "name": "python",
   "nbconvert_exporter": "python",
   "pygments_lexer": "ipython3",
   "version": "3.9.13"
  },
  "orig_nbformat": 4
 },
 "nbformat": 4,
 "nbformat_minor": 2
}
